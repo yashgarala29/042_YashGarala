{
  "nbformat": 4,
  "nbformat_minor": 0,
  "metadata": {
    "colab": {
      "name": "Lab 5_2.ipynb",
      "provenance": [],
      "collapsed_sections": []
    },
    "kernelspec": {
      "name": "python3",
      "display_name": "Python 3"
    },
    "language_info": {
      "name": "python"
    }
  },
  "cells": [
    {
      "cell_type": "code",
      "metadata": {
        "id": "OZeK4xCOQyu7"
      },
      "source": [
        "import numpy as np\n",
        "import tensorflow as tf"
      ],
      "execution_count": 25,
      "outputs": []
    },
    {
      "cell_type": "code",
      "metadata": {
        "id": "9gps5RJtQ8Fn"
      },
      "source": [
        "inputs = np.array([[73, 67, 43], [91, 88, 64], [87, 134, 58], [102, 43, 37], [69, 96, 70],[73, 67, 43], [91, 88, 64], \n",
        "                   [87, 134, 58], [102, 43, 37], [69, 96, 70], [73, 67, 43], [91, 88, 64], [87, 134, 58], [102, 43, 37], \n",
        "                   [69, 96, 70]], dtype='float64')\n",
        "\n",
        "targets = np.array([[56, 70], [81, 101], [119, 133], [22, 37], [103, 119],[56, 70], [81, 101], [119, 133], [22, 37], \n",
        "                    [103, 119],[56, 70], [81, 101], [119, 133], [22, 37], [103, 119]], dtype='float64')"
      ],
      "execution_count": 26,
      "outputs": []
    },
    {
      "cell_type": "code",
      "metadata": {
        "colab": {
          "base_uri": "https://localhost:8080/"
        },
        "id": "aPCM-UEUS1ou",
        "outputId": "beed2ccf-4ff0-4745-be27-71f7cf3fcbab"
      },
      "source": [
        "inputs=tf.Variable(inputs)\n",
        "targets=tf.Variable(targets)\n",
        "print(\"Targets : \\n\",targets)\n",
        "print(\"input : \\n\",inputs)\n"
      ],
      "execution_count": 27,
      "outputs": [
        {
          "output_type": "stream",
          "name": "stdout",
          "text": [
            "Targets : \n",
            " <tf.Variable 'Variable:0' shape=(15, 2) dtype=float64, numpy=\n",
            "array([[ 56.,  70.],\n",
            "       [ 81., 101.],\n",
            "       [119., 133.],\n",
            "       [ 22.,  37.],\n",
            "       [103., 119.],\n",
            "       [ 56.,  70.],\n",
            "       [ 81., 101.],\n",
            "       [119., 133.],\n",
            "       [ 22.,  37.],\n",
            "       [103., 119.],\n",
            "       [ 56.,  70.],\n",
            "       [ 81., 101.],\n",
            "       [119., 133.],\n",
            "       [ 22.,  37.],\n",
            "       [103., 119.]])>\n",
            "input : \n",
            " <tf.Variable 'Variable:0' shape=(15, 3) dtype=float64, numpy=\n",
            "array([[ 73.,  67.,  43.],\n",
            "       [ 91.,  88.,  64.],\n",
            "       [ 87., 134.,  58.],\n",
            "       [102.,  43.,  37.],\n",
            "       [ 69.,  96.,  70.],\n",
            "       [ 73.,  67.,  43.],\n",
            "       [ 91.,  88.,  64.],\n",
            "       [ 87., 134.,  58.],\n",
            "       [102.,  43.,  37.],\n",
            "       [ 69.,  96.,  70.],\n",
            "       [ 73.,  67.,  43.],\n",
            "       [ 91.,  88.,  64.],\n",
            "       [ 87., 134.,  58.],\n",
            "       [102.,  43.,  37.],\n",
            "       [ 69.,  96.,  70.]])>\n"
          ]
        }
      ]
    },
    {
      "cell_type": "code",
      "metadata": {
        "colab": {
          "base_uri": "https://localhost:8080/"
        },
        "id": "h_ZRJ-FpUGeZ",
        "outputId": "7efff6f0-b8ba-4e73-c071-1c73de335c43"
      },
      "source": [
        "v = np.random.rand(3,2)\n",
        "r = np.random.randn(2)\n",
        "v = tf.Variable(v)\n",
        "r = tf.Variable(r)\n",
        "print(v)\n",
        "print(\"\\n\",r)"
      ],
      "execution_count": 28,
      "outputs": [
        {
          "output_type": "stream",
          "name": "stdout",
          "text": [
            "<tf.Variable 'Variable:0' shape=(3, 2) dtype=float64, numpy=\n",
            "array([[0.47408266, 0.00683365],\n",
            "       [0.09374311, 0.93443178],\n",
            "       [0.04749622, 0.64637436]])>\n",
            "\n",
            " <tf.Variable 'Variable:0' shape=(2,) dtype=float64, numpy=array([-0.69863591, -1.03094384])>\n"
          ]
        }
      ]
    },
    {
      "cell_type": "code",
      "metadata": {
        "id": "Qe7o46lgUjJL"
      },
      "source": [
        "def model(s):\n",
        "  return s @ v + r"
      ],
      "execution_count": 29,
      "outputs": []
    },
    {
      "cell_type": "code",
      "metadata": {
        "colab": {
          "base_uri": "https://localhost:8080/"
        },
        "id": "feVlsP8OUoG5",
        "outputId": "a0df70b4-4370-4118-a77b-2ac857e1b88b"
      },
      "source": [
        "prediction = model(inputs)\n",
        "print(prediction)"
      ],
      "execution_count": 30,
      "outputs": [
        {
          "output_type": "stream",
          "name": "stdout",
          "text": [
            "tf.Tensor(\n",
            "[[ 42.23252422  89.86893941]\n",
            " [ 53.73203808 123.1888741 ]\n",
            " [ 55.86291319 162.2671552 ]\n",
            " [ 53.44610936  63.76250634]\n",
            " [ 44.33714179 134.39223425]\n",
            " [ 42.23252422  89.86893941]\n",
            " [ 53.73203808 123.1888741 ]\n",
            " [ 55.86291319 162.2671552 ]\n",
            " [ 53.44610936  63.76250634]\n",
            " [ 44.33714179 134.39223425]\n",
            " [ 42.23252422  89.86893941]\n",
            " [ 53.73203808 123.1888741 ]\n",
            " [ 55.86291319 162.2671552 ]\n",
            " [ 53.44610936  63.76250634]\n",
            " [ 44.33714179 134.39223425]], shape=(15, 2), dtype=float64)\n"
          ]
        }
      ]
    },
    {
      "cell_type": "code",
      "metadata": {
        "colab": {
          "base_uri": "https://localhost:8080/"
        },
        "id": "T5y77aQmV37P",
        "outputId": "27ce56ec-91f3-40a4-e9c4-723223f909e2"
      },
      "source": [
        "def mse(t1,t2):\n",
        "    return tf.reduce_mean(tf.square(t1 - t2))\n",
        "print(mse(prediction,targets))"
      ],
      "execution_count": 31,
      "outputs": [
        {
          "output_type": "stream",
          "name": "stdout",
          "text": [
            "tf.Tensor(1204.6405476603315, shape=(), dtype=float64)\n"
          ]
        }
      ]
    },
    {
      "cell_type": "code",
      "metadata": {
        "colab": {
          "base_uri": "https://localhost:8080/"
        },
        "id": "qco9XHGPV90S",
        "outputId": "fec4bca0-ea43-4112-e8fa-9b8d9bdc812a"
      },
      "source": [
        "epochs = 40\n",
        "for epoch_count in range(epochs):\n",
        "    \n",
        "    with tf.GradientTape(persistent=True) as t:\n",
        "        current_loss = mse(targets, model(inputs))\n",
        "\n",
        "    v1 = t.gradient(current_loss,v)\n",
        "    r1 = t.gradient(current_loss,r)\n",
        "\n",
        "    v.assign_sub(1e-4 * v1)\n",
        "    r.assign_sub(1e-4 * r1)\n",
        "        \n",
        "    print(f\" \\n Epoch count: {epoch_count} \\n Loss value: {current_loss.numpy()}\")\n"
      ],
      "execution_count": 32,
      "outputs": [
        {
          "output_type": "stream",
          "name": "stdout",
          "text": [
            " \n",
            " Epoch count: 0 \n",
            " Loss value: 1204.6405476603315\n",
            " \n",
            " Epoch count: 1 \n",
            " Loss value: 876.3337067465465\n",
            " \n",
            " Epoch count: 2 \n",
            " Loss value: 656.5819891177084\n",
            " \n",
            " Epoch count: 3 \n",
            " Loss value: 506.4915363394669\n",
            " \n",
            " Epoch count: 4 \n",
            " Loss value: 401.5161205677253\n",
            " \n",
            " Epoch count: 5 \n",
            " Loss value: 326.1116273696722\n",
            " \n",
            " Epoch count: 6 \n",
            " Loss value: 270.3886964694542\n",
            " \n",
            " Epoch count: 7 \n",
            " Loss value: 228.01579767623122\n",
            " \n",
            " Epoch count: 8 \n",
            " Loss value: 194.90492112431937\n",
            " \n",
            " Epoch count: 9 \n",
            " Loss value: 168.38717239388674\n",
            " \n",
            " Epoch count: 10 \n",
            " Loss value: 146.695117315411\n",
            " \n",
            " Epoch count: 11 \n",
            " Loss value: 128.63726253190615\n",
            " \n",
            " Epoch count: 12 \n",
            " Loss value: 113.3929410563068\n",
            " \n",
            " Epoch count: 13 \n",
            " Loss value: 100.38270312278853\n",
            " \n",
            " Epoch count: 14 \n",
            " Loss value: 89.18610112912629\n",
            " \n",
            " Epoch count: 15 \n",
            " Loss value: 79.48926299886202\n",
            " \n",
            " Epoch count: 16 \n",
            " Loss value: 71.05122289206392\n",
            " \n",
            " Epoch count: 17 \n",
            " Loss value: 63.68209332627914\n",
            " \n",
            " Epoch count: 18 \n",
            " Loss value: 57.22873901300545\n",
            " \n",
            " Epoch count: 19 \n",
            " Loss value: 51.565226011034994\n",
            " \n",
            " Epoch count: 20 \n",
            " Loss value: 46.58633048055948\n",
            " \n",
            " Epoch count: 21 \n",
            " Loss value: 42.203024838799045\n",
            " \n",
            " Epoch count: 22 \n",
            " Loss value: 38.33925652961732\n",
            " \n",
            " Epoch count: 23 \n",
            " Loss value: 34.9295841916137\n",
            " \n",
            " Epoch count: 24 \n",
            " Loss value: 31.917392976420317\n",
            " \n",
            " Epoch count: 25 \n",
            " Loss value: 29.253509700445637\n",
            " \n",
            " Epoch count: 26 \n",
            " Loss value: 26.8951010479291\n",
            " \n",
            " Epoch count: 27 \n",
            " Loss value: 24.80477772911976\n",
            " \n",
            " Epoch count: 28 \n",
            " Loss value: 22.949852820054584\n",
            " \n",
            " Epoch count: 29 \n",
            " Loss value: 21.30171878669729\n",
            " \n",
            " Epoch count: 30 \n",
            " Loss value: 19.83531825981529\n",
            " \n",
            " Epoch count: 31 \n",
            " Loss value: 18.52869056999566\n",
            " \n",
            " Epoch count: 32 \n",
            " Loss value: 17.362580689168464\n",
            " \n",
            " Epoch count: 33 \n",
            " Loss value: 16.32010038332338\n",
            " \n",
            " Epoch count: 34 \n",
            " Loss value: 15.386433582801352\n",
            " \n",
            " Epoch count: 35 \n",
            " Loss value: 14.54857955207592\n",
            " \n",
            " Epoch count: 36 \n",
            " Loss value: 13.79512860044199\n",
            " \n",
            " Epoch count: 37 \n",
            " Loss value: 13.116065952934331\n",
            " \n",
            " Epoch count: 38 \n",
            " Loss value: 12.502600083833377\n",
            " \n",
            " Epoch count: 39 \n",
            " Loss value: 11.947012359821127\n"
          ]
        }
      ]
    }
  ]
}