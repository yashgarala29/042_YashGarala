{
  "nbformat": 4,
  "nbformat_minor": 0,
  "metadata": {
    "colab": {
      "name": "Lab 4_2.ipynb",
      "provenance": []
    },
    "kernelspec": {
      "name": "python3",
      "display_name": "Python 3"
    },
    "language_info": {
      "name": "python"
    }
  },
  "cells": [
    {
      "cell_type": "code",
      "metadata": {
        "id": "19-VWLo5dRM_"
      },
      "source": [
        "#Import scikit-learn dataset library\n",
        "from sklearn import datasets\n",
        "from sklearn.tree import DecisionTreeClassifier\n",
        "import pandas as pd\n",
        "import numpy as np\n",
        "\n",
        "#Load dataset\n",
        "digit = datasets.load_digits()\n"
      ],
      "execution_count": 24,
      "outputs": []
    },
    {
      "cell_type": "code",
      "metadata": {
        "id": "STpVNWyrdRNb",
        "colab": {
          "base_uri": "https://localhost:8080/"
        },
        "outputId": "d4adbd7c-c518-4420-e07f-faa07b3c9027"
      },
      "source": [
        "# print the names of the features\n",
        "\n",
        "# print the label type of digits\n",
        "print(\"\\n class: \\n\",digit.target_names)\n",
        "\n",
        "# print data(feature)shape\n",
        "print( \"\\n\",digit.data.shape)"
      ],
      "execution_count": 25,
      "outputs": [
        {
          "output_type": "stream",
          "name": "stdout",
          "text": [
            "\n",
            " class: \n",
            " [0 1 2 3 4 5 6 7 8 9]\n",
            "\n",
            " (1797, 64)\n"
          ]
        }
      ]
    },
    {
      "cell_type": "code",
      "metadata": {
        "id": "SNoEzna3dRN2"
      },
      "source": [
        "#import the necessary module\n",
        "from sklearn.model_selection import train_test_split\n",
        "\n",
        "#split data set into train and test sets\n",
        "data_train, data_test, target_train, target_test = train_test_split(digit.data,digit.target, test_size = 0.35, random_state = 42)"
      ],
      "execution_count": 26,
      "outputs": []
    },
    {
      "cell_type": "code",
      "metadata": {
        "id": "CRct6OrjdROI",
        "colab": {
          "base_uri": "https://localhost:8080/"
        },
        "outputId": "5104cfd4-a515-40cb-e221-f5fad18633bf"
      },
      "source": [
        "#Create a Decision Tree Classifier (using Gini)\n",
        "cli=DecisionTreeClassifier(criterion='gini',max_leaf_nodes=100)\n",
        "cli.fit(data_train,target_train)\n",
        "\n",
        "#Train the model using the training sets\n"
      ],
      "execution_count": 27,
      "outputs": [
        {
          "output_type": "execute_result",
          "data": {
            "text/plain": [
              "DecisionTreeClassifier(ccp_alpha=0.0, class_weight=None, criterion='gini',\n",
              "                       max_depth=None, max_features=None, max_leaf_nodes=100,\n",
              "                       min_impurity_decrease=0.0, min_impurity_split=None,\n",
              "                       min_samples_leaf=1, min_samples_split=2,\n",
              "                       min_weight_fraction_leaf=0.0, presort='deprecated',\n",
              "                       random_state=None, splitter='best')"
            ]
          },
          "metadata": {},
          "execution_count": 27
        }
      ]
    },
    {
      "cell_type": "code",
      "metadata": {
        "id": "EUmpqOTcdROY",
        "colab": {
          "base_uri": "https://localhost:8080/"
        },
        "outputId": "75567984-9165-452f-f035-b0e7808552c0"
      },
      "source": [
        "# Predict the classes of test data\n",
        "\n",
        "\n",
        "prediction=cli.predict(data_test)\n",
        "\n",
        "#print(test_pred.dtype)\n",
        "\n",
        "prediction.dtype"
      ],
      "execution_count": 28,
      "outputs": [
        {
          "output_type": "execute_result",
          "data": {
            "text/plain": [
              "dtype('int64')"
            ]
          },
          "metadata": {},
          "execution_count": 28
        }
      ]
    },
    {
      "cell_type": "code",
      "metadata": {
        "id": "ygJOfDiAdROs",
        "colab": {
          "base_uri": "https://localhost:8080/"
        },
        "outputId": "6bdbb419-c7d7-4831-acda-1808d686c97c"
      },
      "source": [
        "# Model Accuracy, how often is the classifier correct?\n",
        "from sklearn import metrics \n",
        "print(\"Accuracy :\",metrics.accuracy_score(target_test,prediction))\n"
      ],
      "execution_count": 29,
      "outputs": [
        {
          "output_type": "stream",
          "name": "stdout",
          "text": [
            "Accuracy : 0.8298887122416534\n"
          ]
        }
      ]
    },
    {
      "cell_type": "code",
      "metadata": {
        "id": "iCM3TyCqdRO7",
        "colab": {
          "base_uri": "https://localhost:8080/"
        },
        "outputId": "bd813f4e-5335-4c5c-80c8-3da966612221"
      },
      "source": [
        "from sklearn.metrics import precision_score\n",
        "from sklearn.metrics import recall_score\n",
        "precision = precision_score(target_test, prediction,average=None)\n",
        "recall = recall_score(target_test, prediction,average=None)\n",
        "print('precision: \\n {}'.format(precision))\n",
        "print('\\n')\n",
        "print('recall: \\n {}'.format(recall))"
      ],
      "execution_count": 30,
      "outputs": [
        {
          "output_type": "stream",
          "name": "stdout",
          "text": [
            "precision: \n",
            " [1.         0.68181818 0.79310345 0.73134328 0.78378378 0.91304348\n",
            " 0.90322581 0.87878788 0.80392157 0.83870968]\n",
            "\n",
            "\n",
            "recall: \n",
            " [0.94736842 0.73770492 0.80701754 0.79032258 0.87878788 0.82894737\n",
            " 0.94915254 0.89230769 0.74545455 0.73239437]\n"
          ]
        }
      ]
    },
    {
      "cell_type": "code",
      "metadata": {
        "id": "L40ny3qldRPJ"
      },
      "source": [
        "# Display in python\n",
        "import matplotlib.pyplot as plt\n",
        "#plt.figure(figsize = (14, 18))\n",
        "#plt.imshow(plt.imread('iris_tree.png'))\n",
        "#plt.axis('off')\n",
        "#plt.show()"
      ],
      "execution_count": 31,
      "outputs": []
    },
    {
      "cell_type": "code",
      "metadata": {
        "id": "4Wr0rlC6dRPV"
      },
      "source": [
        ""
      ],
      "execution_count": 31,
      "outputs": []
    },
    {
      "cell_type": "markdown",
      "metadata": {
        "id": "nx-QEB7zfUGU"
      },
      "source": [
        "**Exercise:**\n",
        "\n",
        "**1) 1<=Rollnumber<=25:**\n",
        "  #Task 1: Try the algo on Same Whether dataset - OneHotEncoding of features: and Train test Division 70%-30%\n",
        "\n",
        "  #Task 2: Apply algorithm on wine dataset - LabelEncoding of features: and Train test Division 80%-20%\n",
        "\n",
        "**2) 26<=Rollnumber<=50:**\n",
        "  #Task 1: Try the algo on Same Whether dataset - LabelEncoding of features: and Train test Division 80%-20% with Gini Index as attribute selection measure\n",
        "\n",
        "  #Task 2: Apply algorithm on digits dataset - One Hot Encoding of features: and Train test Division 65%-35%\n",
        "\n",
        "**3) 51<=Rollnumber<=75:**\n",
        "  #Task 1: Try the algo on Same Whether dataset- LabelEncoding of features: and Train test Division 90%-10%\n",
        "\n",
        "   #Task 2: Apply algorithm on breast cancer wisconsin dataset - One Hot Encoding of features: and Train test Division 60%-40%\n",
        "\n",
        "**4) 76<=Rollnumber<=100:**\n",
        "  #Task 1: Try the algo on Same Whether dataset - OneHotEncoding of features: and Train test Division 75%-25% \n",
        "\n",
        " #Task 2: Apply algorithm on digits dataset - LabelEncoding of features: and Train test Division 80%-20%\n",
        "\n",
        "**5) 101<=Rollnumber<=125:**\n",
        "  #Task 1: Try the algo on Same Whether dataset - OneHotEncoding of features:and Train test Division 85%-15% and Gini Index as attribute selection measure\n",
        "\n",
        "   #Task 2: Apply algorithm on breast cancer wisconsin dataset - One Hot Encoding of features: and Train test Division 50%-50%\n",
        "\n",
        "**6) 126<=Rollnumber + All with No RollNumbers:**\n",
        "  #Task 1: Try the algo on Same Whether dataset - LabelEncoding of features:and Train test Division 95%-5%\n",
        "\n",
        "  #Task 2: Apply algorithm on wine dataset - LabelEncoding of features: and Train test Division 66%-34%\n",
        "  \n",
        "\n",
        "\n",
        "**Instruction for Task-1 & 2:**\n",
        "\n",
        "i) Set Random state and maximum allowed leaf of model equals to your roll number (or last 2 digit of your id -if you don't have roll number)\n",
        "\n",
        "\n",
        "**Questions: For Task - 1**\n",
        "\n",
        "(1) What will be the value of Play, if Outlook is ’Rainy’, Temperature is ’Mild’, Humidity =’Normal’, and Wind = ’False’?\n",
        "\n",
        "(2) What will be the value of Play, if Outlook is ’Sunny’, Temeprature is ’Cool’, Humidity =’High’, and Wind = ’True’?\n",
        "\n",
        "(3) Accuracy , precision and recall of both Models?\n"
      ]
    }
  ]
}