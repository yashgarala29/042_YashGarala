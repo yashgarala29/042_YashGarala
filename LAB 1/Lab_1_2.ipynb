{
  "nbformat": 4,
  "nbformat_minor": 0,
  "metadata": {
    "colab": {
      "name": "Lab 1_2.ipynb",
      "provenance": [],
      "collapsed_sections": []
    },
    "kernelspec": {
      "name": "python3",
      "display_name": "Python 3"
    },
    "language_info": {
      "name": "python"
    }
  },
  "cells": [
    {
      "cell_type": "markdown",
      "metadata": {
        "id": "1SenNHqGgmUg"
      },
      "source": [
        "# Task \n",
        "Perform all preprocessing tasks on any other text dataset. Here I have taken movie review dataset."
      ]
    },
    {
      "cell_type": "code",
      "metadata": {
        "id": "o2K9s47zgaou"
      },
      "source": [
        "import nltk                                \n",
        "from nltk.corpus import movie_reviews as mr\n",
        "import matplotlib.pyplot as plt            \n",
        "import random      \n",
        "import os\n",
        "from collections import defaultdict"
      ],
      "execution_count": 2,
      "outputs": []
    },
    {
      "cell_type": "code",
      "metadata": {
        "colab": {
          "base_uri": "https://localhost:8080/"
        },
        "id": "SgFcwThphaHC",
        "outputId": "e7421677-f9c7-4a3e-9b89-e2aeec77c1fe"
      },
      "source": [
        "movie_reviews=nltk.download('movie_reviews')"
      ],
      "execution_count": 3,
      "outputs": [
        {
          "output_type": "stream",
          "name": "stdout",
          "text": [
            "[nltk_data] Downloading package movie_reviews to /root/nltk_data...\n",
            "[nltk_data]   Unzipping corpora/movie_reviews.zip.\n"
          ]
        }
      ]
    },
    {
      "cell_type": "code",
      "metadata": {
        "colab": {
          "base_uri": "https://localhost:8080/"
        },
        "id": "dw5flCOYhk55",
        "outputId": "e5ec9a6b-d495-4fee-89f8-8026ff80dcb0"
      },
      "source": [
        "documents = defaultdict(list)\n",
        "\n",
        "for i in mr.fileids():\n",
        "  # print(i)\n",
        "  documents[i.split('/')[0]].append(i)\n",
        "\n",
        "print (documents['pos'][:10]) \n",
        "pos_review = documents['pos']\n",
        "print (documents['neg'][:10])\n",
        "neg_review = documents['neg']"
      ],
      "execution_count": 4,
      "outputs": [
        {
          "output_type": "stream",
          "name": "stdout",
          "text": [
            "['pos/cv000_29590.txt', 'pos/cv001_18431.txt', 'pos/cv002_15918.txt', 'pos/cv003_11664.txt', 'pos/cv004_11636.txt', 'pos/cv005_29443.txt', 'pos/cv006_15448.txt', 'pos/cv007_4968.txt', 'pos/cv008_29435.txt', 'pos/cv009_29592.txt']\n",
            "['neg/cv000_29416.txt', 'neg/cv001_19502.txt', 'neg/cv002_17424.txt', 'neg/cv003_12683.txt', 'neg/cv004_12641.txt', 'neg/cv005_29357.txt', 'neg/cv006_17022.txt', 'neg/cv007_4992.txt', 'neg/cv008_29326.txt', 'neg/cv009_29417.txt']\n"
          ]
        }
      ]
    },
    {
      "cell_type": "code",
      "metadata": {
        "colab": {
          "base_uri": "https://localhost:8080/",
          "height": 303
        },
        "id": "cn9qptQ_mnr4",
        "outputId": "4d930b1c-ec01-4008-d250-58b088025006"
      },
      "source": [
        "fig=plt.figure(figsize=(5,5))\n",
        "labels='Bahubali','King`s Man','Money Heist'\n",
        "size=['2','4','5']\n",
        "plt.pie(size,labels=labels,autopct='%.2f%%',startangle=90)\n",
        "plt.axis('equal');\n",
        "plt.show()"
      ],
      "execution_count": 5,
      "outputs": [
        {
          "output_type": "display_data",
          "data": {
            "image/png": "[encoded data removed]",
            "text/plain": [
              "<Figure size 360x360 with 1 Axes>"
            ]
          },
          "metadata": {}
        }
      ]
    },
    {
      "cell_type": "code",
      "metadata": {
        "colab": {
          "base_uri": "https://localhost:8080/"
        },
        "id": "-abNjdopoCca",
        "outputId": "28f1fbb5-415c-4cec-d7fa-3422544e5739"
      },
      "source": [
        "print('Number of positive review: ', len(pos_review))\n",
        "print('Number of negative review: ', len(neg_review))\n",
        "\n",
        "print('\\nThe type of all_positive_review is: ', type(pos_review))\n",
        "print('The type of a tweet entry is: ', type(neg_review[0]))"
      ],
      "execution_count": 6,
      "outputs": [
        {
          "output_type": "stream",
          "name": "stdout",
          "text": [
            "Number of positive review:  1000\n",
            "Number of negative review:  1000\n",
            "\n",
            "The type of all_positive_review is:  <class 'list'>\n",
            "The type of a tweet entry is:  <class 'str'>\n"
          ]
        }
      ]
    },
    {
      "cell_type": "code",
      "metadata": {
        "colab": {
          "base_uri": "https://localhost:8080/",
          "height": 303
        },
        "id": "WYz5Sv9aoQt-",
        "outputId": "ce4dff11-bf45-4ee1-cee2-e40151bf6470"
      },
      "source": [
        "fig=plt.figure(figsize=(5,5))\n",
        "labels='Positives','Negative'\n",
        "sizes=[len(pos_review),len(neg_review)]\n",
        "\n",
        "plt.pie(sizes,labels=labels,autopct='%1.1f%%',startangle=90)\n",
        "\n",
        "# plt.pie(sizes, labels=labels, autopct='%1.1f%%',\n",
        "#         shadow=True, startangle=90)\n",
        "\n",
        "# plt.axispl\n",
        "plt.axis('equal')  \n",
        "\n",
        "plt.show()"
      ],
      "execution_count": 7,
      "outputs": [
        {
          "output_type": "display_data",
          "data": {
            "image/png": "[encoded data removed]",
            "text/plain": [
              "<Figure size 360x360 with 1 Axes>"
            ]
          },
          "metadata": {}
        }
      ]
    },
    {
      "cell_type": "code",
      "metadata": {
        "colab": {
          "base_uri": "https://localhost:8080/"
        },
        "id": "vU5D-V-nn6pN",
        "outputId": "b93b2e43-400b-4dd7-f981-5b1d5b07313b"
      },
      "source": [
        "random_positive =mr.words(pos_review[random.randint(0,10)])\n",
        "print(\"Positive review \")\n",
        "print(random_positive)\n",
        "random_negative =mr.words(neg_review[random.randint(0,10)])\n",
        "print(\"Negative review \")\n",
        "print(random_negative)\n"
      ],
      "execution_count": 9,
      "outputs": [
        {
          "output_type": "stream",
          "name": "stdout",
          "text": [
            "Positive review \n",
            "['after', 'bloody', 'clashes', 'and', 'independence', ...]\n",
            "Negative review \n",
            "['capsule', ':', 'in', '2176', 'on', 'the', 'planet', ...]\n"
          ]
        }
      ]
    },
    {
      "cell_type": "code",
      "metadata": {
        "id": "yMbJn_7yo_FJ"
      },
      "source": [
        ""
      ],
      "execution_count": null,
      "outputs": []
    }
  ]
}