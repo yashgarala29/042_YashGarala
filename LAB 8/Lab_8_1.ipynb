{
  "nbformat": 4,
  "nbformat_minor": 0,
  "metadata": {
    "colab": {
      "name": "Lab 8_1.ipynb",
      "provenance": [],
      "collapsed_sections": []
    },
    "kernelspec": {
      "name": "python3",
      "display_name": "Python 3"
    },
    "language_info": {
      "name": "python"
    }
  },
  "cells": [
    {
      "cell_type": "code",
      "metadata": {
        "id": "EgEuAzZ0fNYD"
      },
      "source": [
        "# import libraries\n",
        "import seaborn as sns\n",
        "import matplotlib.pyplot as plt\n",
        "from sklearn.cluster import KMeans\n",
        "from sklearn.datasets import load_breast_cancer\n",
        "from sklearn.metrics import accuracy_score\n",
        "from sklearn.metrics import confusion_matrix"
      ],
      "execution_count": 10,
      "outputs": []
    },
    {
      "cell_type": "code",
      "metadata": {
        "id": "fFSBvmgCfNYI"
      },
      "source": [
        "# Load Breaast cancer data from sklearn\n",
        "df = load_breast_cancer()"
      ],
      "execution_count": 11,
      "outputs": []
    },
    {
      "cell_type": "code",
      "metadata": {
        "scrolled": true,
        "id": "qlXJR8gafNYL",
        "colab": {
          "base_uri": "https://localhost:8080/"
        },
        "outputId": "b4ced137-14fb-4747-8c0f-b2dcbf516725"
      },
      "source": [
        "# print(df)\n",
        "# Visualiza the data\n",
        "df.data.shape"
      ],
      "execution_count": 12,
      "outputs": [
        {
          "output_type": "execute_result",
          "data": {
            "text/plain": [
              "(569, 30)"
            ]
          },
          "metadata": {},
          "execution_count": 12
        }
      ]
    },
    {
      "cell_type": "code",
      "metadata": {
        "id": "vER_VCOzfNYP",
        "colab": {
          "base_uri": "https://localhost:8080/"
        },
        "outputId": "70ecff80-ecb0-4522-d268-2682dd395959"
      },
      "source": [
        "#printing the target vaues\n",
        "print(\"Taeget Name:\",df.target_names,\"\\nTarget Shape:\",df.target_names.shape)"
      ],
      "execution_count": 13,
      "outputs": [
        {
          "output_type": "stream",
          "name": "stdout",
          "text": [
            "Taeget Name: ['malignant' 'benign'] \n",
            "Target Shape: (2,)\n"
          ]
        }
      ]
    },
    {
      "cell_type": "code",
      "metadata": {
        "id": "6mw7TmQsfNYR"
      },
      "source": [
        "# kmeans algorithm to classify given data\n",
        "model = KMeans(n_clusters=10, random_state=42)"
      ],
      "execution_count": 14,
      "outputs": []
    },
    {
      "cell_type": "code",
      "metadata": {
        "scrolled": true,
        "id": "ETte4YojfNYV",
        "colab": {
          "base_uri": "https://localhost:8080/"
        },
        "outputId": "b858e53d-d2a9-4a16-a70a-53574a54f180"
      },
      "source": [
        "# Fit and Predict using kmeans\n",
        "predict = model.fit_predict(df.data)\n",
        "print(predict)"
      ],
      "execution_count": 15,
      "outputs": [
        {
          "output_type": "stream",
          "name": "stdout",
          "text": [
            "[9 9 2 1 2 5 2 5 5 5 0 8 8 0 5 0 0 8 7 5 1 4 0 7 7 8 5 8 8 8 2 5 8 9 8 8 5\n",
            " 1 5 5 5 1 2 5 5 2 4 5 1 5 1 5 1 8 0 1 9 0 1 4 4 4 0 4 5 0 4 1 4 1 9 4 2 5\n",
            " 1 8 1 2 2 1 1 1 3 8 1 2 5 2 1 5 5 5 5 5 0 2 1 4 1 5 5 4 1 4 4 5 1 1 7 1 4\n",
            " 1 5 4 4 1 4 0 8 8 1 2 9 5 1 5 5 2 5 2 1 0 8 0 2 1 1 1 0 4 4 8 1 1 4 1 1 5\n",
            " 5 5 1 4 4 4 5 1 8 0 1 1 1 2 7 1 7 5 4 8 2 5 1 0 0 4 4 4 4 0 1 1 3 9 8 1 0\n",
            " 4 8 1 1 1 5 1 4 5 5 1 5 8 2 0 1 8 9 0 1 0 4 8 1 0 2 1 3 0 5 5 1 4 9 7 5 5\n",
            " 4 0 5 5 4 5 1 5 8 1 1 9 4 5 3 9 5 8 5 1 1 5 2 4 1 1 4 1 9 1 9 8 9 5 9 0 8\n",
            " 0 9 8 8 0 8 3 4 5 1 4 5 1 7 4 8 1 1 8 5 5 2 1 2 0 1 1 1 1 4 1 5 5 1 1 1 5\n",
            " 4 1 5 4 9 1 2 4 1 1 1 4 5 5 1 5 1 1 4 1 1 2 4 1 4 2 1 9 1 1 5 1 0 0 0 1 4\n",
            " 1 1 8 1 9 4 3 5 4 4 2 1 4 1 5 1 1 1 0 3 0 1 1 1 5 4 4 1 1 1 0 5 9 2 1 3 7\n",
            " 8 5 2 9 5 0 4 5 5 1 1 4 1 1 1 5 1 5 1 8 4 4 8 9 1 5 5 1 1 1 8 1 1 1 1 1 0\n",
            " 1 8 1 1 1 4 5 0 1 4 2 1 1 1 5 1 5 4 4 4 1 4 1 5 1 2 2 5 5 1 5 5 5 1 8 5 4\n",
            " 8 1 8 5 5 9 1 2 1 5 1 5 1 1 1 4 2 6 5 1 5 5 5 4 8 1 4 1 0 1 4 1 5 5 1 0 1\n",
            " 5 5 5 0 1 5 2 1 0 1 8 8 1 1 5 1 1 2 9 5 5 1 3 4 4 1 4 0 0 1 5 5 5 0 1 2 2\n",
            " 1 1 4 3 4 5 4 4 5 1 5 1 1 1 5 2 4 9 5 1 4 4 1 5 5 1 5 5 4 4 4 1 4 4 1 4 1\n",
            " 4 4 4 5 1 5 4 0 9 9 2 0 9 4]\n"
          ]
        }
      ]
    },
    {
      "cell_type": "code",
      "metadata": {
        "colab": {
          "base_uri": "https://localhost:8080/",
          "height": 197
        },
        "id": "wxnSBVHzt12g",
        "outputId": "7a865124-ce1b-43eb-c052-6b3a8b157111"
      },
      "source": [
        "# Scatter plot of the data points\n",
        "import matplotlib.pyplot as plt\n",
        "fig, ax = plt.subplots(2, 5, figsize=(8, 3))\n",
        "centers = model.cluster_centers_.reshape(10, 6, 5)\n",
        "for axi, center in zip(ax.flat, centers):\n",
        "  axi.set(xticks=[], yticks=[])\n",
        "  axi.imshow(center, interpolation='nearest', cmap=plt.cm.binary)"
      ],
      "execution_count": 16,
      "outputs": [
        {
          "output_type": "display_data",
          "data": {
            "image/png": "[encoded data removed]",
            "text/plain": [
              "<Figure size 576x216 with 10 Axes>"
            ]
          },
          "metadata": {}
        }
      ]
    },
    {
      "cell_type": "code",
      "metadata": {
        "id": "R00FrAYsfNYZ",
        "colab": {
          "base_uri": "https://localhost:8080/"
        },
        "outputId": "597ecf99-f352-4505-ffa3-e0bfa92453cb"
      },
      "source": [
        "# accuracy\n",
        "import numpy as np\n",
        "from scipy.stats import mode\n",
        "labels = np.zeros_like(predict)\n",
        "for i in range(2):\n",
        "    mask = (predict==i)\n",
        "    labels[mask] = mode(df.target[mask])[0]\n",
        "    \n",
        "accuracy_score(df.target,labels)"
      ],
      "execution_count": 17,
      "outputs": [
        {
          "output_type": "execute_result",
          "data": {
            "text/plain": [
              "0.6625659050966608"
            ]
          },
          "metadata": {},
          "execution_count": 17
        }
      ]
    },
    {
      "cell_type": "code",
      "metadata": {
        "id": "sJgFFcxbfNYe",
        "colab": {
          "base_uri": "https://localhost:8080/",
          "height": 282
        },
        "outputId": "0844b7d2-f264-493a-a7ce-6cd4cc0fb9e8"
      },
      "source": [
        "# confusion matrix\n",
        "cmat = confusion_matrix(df.target,labels)\n",
        "sns.heatmap(cmat,xticklabels=df.target_names,yticklabels=df.target_names)\n",
        "plt.plot()"
      ],
      "execution_count": 18,
      "outputs": [
        {
          "output_type": "execute_result",
          "data": {
            "text/plain": [
              "[]"
            ]
          },
          "metadata": {},
          "execution_count": 18
        },
        {
          "output_type": "display_data",
          "data": {
            "image/png": "[encoded data removed]",
            "text/plain": [
              "<Figure size 432x288 with 2 Axes>"
            ]
          },
          "metadata": {
            "needs_background": "light"
          }
        }
      ]
    }
  ]
}