{
  "nbformat": 4,
  "nbformat_minor": 0,
  "metadata": {
    "colab": {
      "name": "Lab 7_1.ipynb",
      "provenance": [],
      "collapsed_sections": []
    },
    "kernelspec": {
      "name": "python3",
      "display_name": "Python 3"
    },
    "language_info": {
      "name": "python"
    }
  },
  "cells": [
    {
      "cell_type": "code",
      "metadata": {
        "id": "gAqdm-FyAZy_"
      },
      "source": [
        "import nltk\n",
        "from nltk.corpus import twitter_samples \n",
        "import pandas as pd\n",
        "import tensorflow.compat.v1 as tf\n",
        "tf.disable_v2_behavior()"
      ],
      "execution_count": 210,
      "outputs": []
    },
    {
      "cell_type": "code",
      "metadata": {
        "colab": {
          "base_uri": "https://localhost:8080/"
        },
        "id": "GQdGtfTBCid8",
        "outputId": "0b157ece-8651-4f1f-b237-364ad8f57b95"
      },
      "source": [
        "nltk.download('twitter_samples')\n",
        "nltk.download('stopwords')"
      ],
      "execution_count": 211,
      "outputs": [
        {
          "output_type": "stream",
          "name": "stdout",
          "text": [
            "[nltk_data] Downloading package twitter_samples to /root/nltk_data...\n",
            "[nltk_data]   Package twitter_samples is already up-to-date!\n",
            "[nltk_data] Downloading package stopwords to /root/nltk_data...\n",
            "[nltk_data]   Package stopwords is already up-to-date!\n"
          ]
        },
        {
          "output_type": "execute_result",
          "data": {
            "text/plain": [
              "True"
            ]
          },
          "metadata": {},
          "execution_count": 211
        }
      ]
    },
    {
      "cell_type": "code",
      "metadata": {
        "id": "VpCHB8mZFVBU"
      },
      "source": [
        "import re\n",
        "import string\n",
        "import numpy as np\n",
        "from nltk.corpus import stopwords\n",
        "from nltk.stem import PorterStemmer\n",
        "from nltk.tokenize import TweetTokenizer"
      ],
      "execution_count": 212,
      "outputs": []
    },
    {
      "cell_type": "code",
      "metadata": {
        "id": "zhR7PUcfHkBQ"
      },
      "source": [
        "all_positive_tweets = twitter_samples.strings('positive_tweets.json')\n",
        "all_negative_tweets = twitter_samples.strings('negative_tweets.json')"
      ],
      "execution_count": 213,
      "outputs": []
    },
    {
      "cell_type": "code",
      "metadata": {
        "id": "8976cobqHTee"
      },
      "source": [
        "test_pos = all_positive_tweets[4000:]\n",
        "train_pos = all_positive_tweets[:4000]\n",
        "test_neg = all_negative_tweets[4000:]\n",
        "train_neg = all_negative_tweets[:4000]\n",
        "train_x = train_pos+train_neg\n",
        "test_x = test_pos+test_neg"
      ],
      "execution_count": 214,
      "outputs": []
    },
    {
      "cell_type": "code",
      "metadata": {
        "id": "0oKuwD8MH-Fe"
      },
      "source": [
        "def process_tweet(tweet):\n",
        "    stemmer = PorterStemmer()\n",
        "    stopwords_english = stopwords.words('english')\n",
        "\n",
        "    tweet = re.sub(r'\\$\\w*', '', tweet)\n",
        "    tweet = re.sub(r'^RT[\\s]+', '', tweet)\n",
        "    tweet = re.sub(r'https?:\\/\\/.*[\\r\\n]*', '', tweet)\n",
        "    tweet = re.sub(r'#', '', tweet)\n",
        "   \n",
        "    tokenizer = TweetTokenizer(preserve_case=False, strip_handles=True,\n",
        "                               reduce_len=True)\n",
        "    tweet_tokens = tokenizer.tokenize(tweet)\n",
        "\n",
        "    tweets_clean = []\n",
        "    for word in tweet_tokens:\n",
        "            if(word not in stopwords_english and word not in string.punctuation):\n",
        "              steam_word=stemmer.stem(word)\n",
        "              tweets_clean.append(steam_word)\n",
        "    return tweets_clean"
      ],
      "execution_count": 215,
      "outputs": []
    },
    {
      "cell_type": "code",
      "metadata": {
        "id": "f3tUhAsMIUtm"
      },
      "source": [
        "def build_freqs(tweets, ys):\n",
        "  yslist = np.squeeze(ys).tolist()\n",
        "  freqs = {}\n",
        "  for y, tweet in zip(yslist, tweets):\n",
        "    for word in process_tweet(tweet):\n",
        "      pair = (word, y)\n",
        "      if pair in freqs:\n",
        "        freqs[pair] += 1\n",
        "      else:\n",
        "        freqs[pair] = 1\n",
        "  return freqs"
      ],
      "execution_count": 216,
      "outputs": []
    },
    {
      "cell_type": "code",
      "metadata": {
        "id": "Z4z8A3dJI8fN"
      },
      "source": [
        "train_y = np.append(np.ones((len(train_pos), 1)), np.zeros((len(train_neg), 1)), axis=0)\n",
        "test_y = np.append(np.ones((len(test_pos), 1)), np.zeros((len(test_neg), 1)), axis=0)\n",
        "# print(train_y)"
      ],
      "execution_count": 217,
      "outputs": []
    },
    {
      "cell_type": "code",
      "metadata": {
        "colab": {
          "base_uri": "https://localhost:8080/"
        },
        "id": "IkBdkSk_JMR9",
        "outputId": "1491b078-8707-4616-f76c-8367e40ea83c"
      },
      "source": [
        "freqs = build_freqs(train_x,train_y)\n",
        "# print(train_y)\n",
        "print(\"\\ntype(freqs) = \" + str(type(freqs)))\n",
        "print(\"len(freqs) = \" + str(len(freqs.keys())))"
      ],
      "execution_count": 218,
      "outputs": [
        {
          "output_type": "stream",
          "name": "stdout",
          "text": [
            "\n",
            "type(freqs) = <class 'dict'>\n",
            "len(freqs) = 11346\n"
          ]
        }
      ]
    },
    {
      "cell_type": "code",
      "metadata": {
        "colab": {
          "base_uri": "https://localhost:8080/"
        },
        "id": "MOSWoE02JX98",
        "outputId": "b7da7c7d-ec15-42fb-cd30-1f0ba0541ed6"
      },
      "source": [
        "print('Example of positive tweet \\n',train_x[0])\n",
        "print('\\n Example of processed version of the tweet \\n', process_tweet(train_x[0]))\n"
      ],
      "execution_count": 219,
      "outputs": [
        {
          "output_type": "stream",
          "name": "stdout",
          "text": [
            "Example of positive tweet \n",
            " #FollowFriday @France_Inte @PKuchly57 @Milipol_Paris for being top engaged members in my community this week :)\n",
            "\n",
            " Example of processed version of the tweet \n",
            " ['followfriday', 'top', 'engag', 'member', 'commun', 'week', ':)']\n"
          ]
        }
      ]
    },
    {
      "cell_type": "code",
      "metadata": {
        "id": "Y_-my6BQLm48"
      },
      "source": [
        "def extract_features(tweet, freqs):\n",
        " \n",
        "    word_l = process_tweet(tweet)\n",
        "    x = np.zeros((1, 2)) \n",
        "    # x[0,0]=1\n",
        "    for word in word_l:\n",
        "        if((word,1) in freqs):\n",
        "          x[0,0]+=freqs[word,1]\n",
        "    \n",
        "        if((word,0) in freqs):\n",
        "          x[0,1]+=freqs[word,0]\n",
        "    \n",
        "    assert(x.shape == (1, 2))\n",
        "    return x[0]"
      ],
      "execution_count": 220,
      "outputs": []
    },
    {
      "cell_type": "code",
      "metadata": {
        "colab": {
          "base_uri": "https://localhost:8080/"
        },
        "id": "lKtx4OK6Mnek",
        "outputId": "23cea650-6fae-4628-d66c-1f8bf09e2e15"
      },
      "source": [
        "tmp1= extract_features(train_x[0],freqs)\n",
        "print(tmp1)"
      ],
      "execution_count": 221,
      "outputs": [
        {
          "output_type": "stream",
          "name": "stdout",
          "text": [
            "[3020.   61.]\n"
          ]
        }
      ]
    },
    {
      "cell_type": "code",
      "metadata": {
        "colab": {
          "base_uri": "https://localhost:8080/"
        },
        "id": "aVfc-9PUNRG3",
        "outputId": "028cb28b-118b-4754-8c99-9ae6c789fa1d"
      },
      "source": [
        "tmp2 = extract_features('good', freqs)\n",
        "print(tmp2)\n",
        "tmp2 = extract_features('happy', freqs)\n",
        "print(tmp2)"
      ],
      "execution_count": 222,
      "outputs": [
        {
          "output_type": "stream",
          "name": "stdout",
          "text": [
            "[191.  83.]\n",
            "[161.  18.]\n"
          ]
        }
      ]
    },
    {
      "cell_type": "code",
      "metadata": {
        "id": "DeD_uFaVNkCs"
      },
      "source": [
        "def predict_tweet(tweet):\n",
        "  with tf.Session() as sess:\n",
        "      saver.restore(sess,save_path='TSession')\n",
        "      data_i=[]\n",
        "      for t in tweet:\n",
        "        data_i.append(extract_features(t,freqs))\n",
        "      data_i=np.asarray(data_i)\n",
        "      return sess.run(tf.nn.sigmoid(tf.add(tf.matmul(a=data_i,b=W,transpose_b=True),b)))\n",
        "      print(\"Fail\")\n",
        "  return "
      ],
      "execution_count": 223,
      "outputs": []
    },
    {
      "cell_type": "code",
      "metadata": {
        "id": "oYvKUlNWOlMz"
      },
      "source": [
        "b=tf.Variable(np.random.randn(1),name=\"Bias\")\n",
        "W=tf.Variable(np.random.randn(1,2),name=\"Bias\")\n"
      ],
      "execution_count": 224,
      "outputs": []
    },
    {
      "cell_type": "code",
      "metadata": {
        "colab": {
          "base_uri": "https://localhost:8080/"
        },
        "id": "srnmd8PWO4I4",
        "outputId": "b513a4f8-2629-4666-9fb2-b319fb77ac5b"
      },
      "source": [
        "data=[]\n",
        "for t in train_x:\n",
        "  data.append(extract_features(t,freqs))\n",
        "data=np.asarray(data)\n",
        "print(data)"
      ],
      "execution_count": 225,
      "outputs": [
        {
          "output_type": "stream",
          "name": "stdout",
          "text": [
            "[[3020.   61.]\n",
            " [3573.  444.]\n",
            " [3005.  115.]\n",
            " ...\n",
            " [ 144.  783.]\n",
            " [ 205. 3890.]\n",
            " [ 189. 3974.]]\n"
          ]
        }
      ]
    },
    {
      "cell_type": "code",
      "metadata": {
        "colab": {
          "base_uri": "https://localhost:8080/"
        },
        "id": "lcmiolMDQKqL",
        "outputId": "3daaf1b7-f5c7-4f07-e83c-19ecbe34a1bd"
      },
      "source": [
        "# print( np.asarray(data))\n",
        "Y_hat = tf.nn.sigmoid(tf.add(tf.matmul(np.asarray(data), W,transpose_b=True), b)) \n",
        "print(Y_hat)\n",
        "ta=np.asarray(train_y)\n",
        "# print(ta)\n",
        "\n",
        "cost = tf.nn.sigmoid_cross_entropy_with_logits( \n",
        "                    logits = Y_hat, labels = ta) \n",
        "print(\"\\n\",cost)"
      ],
      "execution_count": 226,
      "outputs": [
        {
          "output_type": "stream",
          "name": "stdout",
          "text": [
            "Tensor(\"Sigmoid_38:0\", shape=(8000, 1), dtype=float64)\n",
            "\n",
            " Tensor(\"logistic_loss_21:0\", shape=(8000, 1), dtype=float64)\n"
          ]
        }
      ]
    },
    {
      "cell_type": "code",
      "metadata": {
        "id": "4AGXaQ6scuQd"
      },
      "source": [
        "optimizer = tf.train.GradientDescentOptimizer(learning_rate = 1e-4,name=\"GradientDescent\").minimize(cost) \n",
        "init = tf.global_variables_initializer() "
      ],
      "execution_count": 227,
      "outputs": []
    },
    {
      "cell_type": "code",
      "metadata": {
        "colab": {
          "base_uri": "https://localhost:8080/"
        },
        "id": "yTc-9kwXc3dD",
        "outputId": "d1c77ef6-44ca-42cb-d9bc-0ce5e2a7a99a"
      },
      "source": [
        "saver = tf.train.Saver()\n",
        "with tf.Session() as sess:\n",
        "  \n",
        "  sess.run(init)\n",
        "  print(\"Bias\",sess.run(b))\n",
        "  print(\"Weight\",sess.run(W))\n",
        "  for epoch in range(400):\n",
        "    sess.run(optimizer)\n",
        "    preds=sess.run(Y_hat)\n",
        "    acc=((preds==ta).sum())/len(train_y)\n",
        "    accu=[]\n",
        "    repoch=False\n",
        "    if repoch:\n",
        "      accu.append(acc)\n",
        "    if epoch % 1000 == 0:\n",
        "      print(\"Accuracy\",acc)\n",
        "    saved_path = saver.save(sess, 'TSession')"
      ],
      "execution_count": 228,
      "outputs": [
        {
          "output_type": "stream",
          "name": "stdout",
          "text": [
            "Bias [0.77179035]\n",
            "Weight [[-0.47441467 -1.12760161]]\n",
            "Accuracy 0.46825\n"
          ]
        }
      ]
    },
    {
      "cell_type": "code",
      "metadata": {
        "id": "5wwviToDAYoB",
        "colab": {
          "base_uri": "https://localhost:8080/"
        },
        "outputId": "83c9b109-d55d-4fb6-e5a1-03cf77366f06"
      },
      "source": [
        "preds=predict_tweet(test_x)\n",
        "print(preds,len(test_y))"
      ],
      "execution_count": 229,
      "outputs": [
        {
          "output_type": "stream",
          "name": "stdout",
          "text": [
            "INFO:tensorflow:Restoring parameters from TSession\n",
            "[[0.0000000e+000]\n",
            " [0.0000000e+000]\n",
            " [0.0000000e+000]\n",
            " ...\n",
            " [0.0000000e+000]\n",
            " [0.0000000e+000]\n",
            " [1.2071115e-240]] 2000\n"
          ]
        }
      ]
    },
    {
      "cell_type": "code",
      "metadata": {
        "id": "Z0FmGeUWAYoD"
      },
      "source": [
        "def calculate_accuracy(x,y):\n",
        "  if len(x)!=len(y):\n",
        "    print(\"dimensions are different\")\n",
        "    return\n",
        "  return ((x==y).sum())/len(y)"
      ],
      "execution_count": 230,
      "outputs": []
    },
    {
      "cell_type": "code",
      "metadata": {
        "id": "tAWHS6G9AYoE",
        "colab": {
          "base_uri": "https://localhost:8080/"
        },
        "outputId": "7f3403f7-c3d7-4afb-c8c9-8c9c8ea599e5"
      },
      "source": [
        "print(calculate_accuracy(preds,test_y))"
      ],
      "execution_count": 231,
      "outputs": [
        {
          "output_type": "stream",
          "name": "stdout",
          "text": [
            "0.4645\n"
          ]
        }
      ]
    }
  ]
}